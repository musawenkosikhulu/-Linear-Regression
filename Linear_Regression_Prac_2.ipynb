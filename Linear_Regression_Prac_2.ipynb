{
  "nbformat": 4,
  "nbformat_minor": 0,
  "metadata": {
    "colab": {
      "name": "Linear_Regression_Prac_2.ipynb",
      "provenance": [],
      "collapsed_sections": [],
      "include_colab_link": true
    },
    "kernelspec": {
      "name": "python3",
      "display_name": "Python 3"
    }
  },
  "cells": [
    {
      "cell_type": "markdown",
      "metadata": {
        "id": "view-in-github",
        "colab_type": "text"
      },
      "source": [
        "<a href=\"https://colab.research.google.com/github/musawenkosikhulu/-Linear-Regression/blob/main/Linear_Regression_Prac_2.ipynb\" target=\"_parent\"><img src=\"https://colab.research.google.com/assets/colab-badge.svg\" alt=\"Open In Colab\"/></a>"
      ]
    },
    {
      "cell_type": "markdown",
      "metadata": {
        "id": "XD2TkkcXS5LM"
      },
      "source": [
        "## Linear Regression Prac 2\n",
        "\n",
        "This notebook will make use of Scikit-learn's Linear Regression class. The documentation is found here: https://scikit-learn.org/stable/modules/generated/sklearn.linear_model.LinearRegression.html\n",
        "\n",
        "Credits:\n",
        "\n",
        "The notebooks on linear regression are modifications of various sources which include:\n",
        "https://scikit-learn.org/stable/auto_examples/linear_model/plot_ols.html\n",
        "https://medium.com/analytics-vidhya/linear-regression-using-python-ce21aa90ade6\n",
        "https://www.kdnuggets.com/2019/03/beginners-guide-linear-regression-python-scikit-learn.html/2"
      ]
    },
    {
      "cell_type": "markdown",
      "metadata": {
        "id": "LObti6L0XfQK"
      },
      "source": [
        "## Various Python imports"
      ]
    },
    {
      "cell_type": "code",
      "metadata": {
        "id": "0_oxA3C0LT5E"
      },
      "source": [
        "import matplotlib.pyplot as plt\n",
        "import numpy as np\n",
        "from sklearn import datasets\n",
        "from sklearn.linear_model import LinearRegression\n",
        "from sklearn.metrics import mean_squared_error, mean_absolute_error\n",
        "from sklearn.model_selection import train_test_split"
      ],
      "execution_count": null,
      "outputs": []
    },
    {
      "cell_type": "markdown",
      "metadata": {
        "id": "AwpNJvWyXhi7"
      },
      "source": [
        "## Load the dataset"
      ]
    },
    {
      "cell_type": "code",
      "metadata": {
        "id": "77jn_sloQgKu"
      },
      "source": [
        "diabetes = datasets.load_diabetes()"
      ],
      "execution_count": null,
      "outputs": []
    },
    {
      "cell_type": "markdown",
      "metadata": {
        "id": "Q9cgy6f8XknX"
      },
      "source": [
        "## Take a look at what has been downloaded"
      ]
    },
    {
      "cell_type": "code",
      "metadata": {
        "id": "j81ihEsxXku1",
        "colab": {
          "base_uri": "https://localhost:8080/"
        },
        "outputId": "ace7ef0d-04f2-49c8-9fe2-6f3df4eb7daf"
      },
      "source": [
        "diabetes"
      ],
      "execution_count": null,
      "outputs": [
        {
          "output_type": "execute_result",
          "data": {
            "text/plain": [
              "{'DESCR': '.. _diabetes_dataset:\\n\\nDiabetes dataset\\n----------------\\n\\nTen baseline variables, age, sex, body mass index, average blood\\npressure, and six blood serum measurements were obtained for each of n =\\n442 diabetes patients, as well as the response of interest, a\\nquantitative measure of disease progression one year after baseline.\\n\\n**Data Set Characteristics:**\\n\\n  :Number of Instances: 442\\n\\n  :Number of Attributes: First 10 columns are numeric predictive values\\n\\n  :Target: Column 11 is a quantitative measure of disease progression one year after baseline\\n\\n  :Attribute Information:\\n      - age     age in years\\n      - sex\\n      - bmi     body mass index\\n      - bp      average blood pressure\\n      - s1      tc, total serum cholesterol\\n      - s2      ldl, low-density lipoproteins\\n      - s3      hdl, high-density lipoproteins\\n      - s4      tch, total cholesterol / HDL\\n      - s5      ltg, possibly log of serum triglycerides level\\n      - s6      glu, blood sugar level\\n\\nNote: Each of these 10 feature variables have been mean centered and scaled by the standard deviation times `n_samples` (i.e. the sum of squares of each column totals 1).\\n\\nSource URL:\\nhttps://www4.stat.ncsu.edu/~boos/var.select/diabetes.html\\n\\nFor more information see:\\nBradley Efron, Trevor Hastie, Iain Johnstone and Robert Tibshirani (2004) \"Least Angle Regression,\" Annals of Statistics (with discussion), 407-499.\\n(https://web.stanford.edu/~hastie/Papers/LARS/LeastAngle_2002.pdf)',\n",
              " 'data': array([[ 0.03807591,  0.05068012,  0.06169621, ..., -0.00259226,\n",
              "          0.01990842, -0.01764613],\n",
              "        [-0.00188202, -0.04464164, -0.05147406, ..., -0.03949338,\n",
              "         -0.06832974, -0.09220405],\n",
              "        [ 0.08529891,  0.05068012,  0.04445121, ..., -0.00259226,\n",
              "          0.00286377, -0.02593034],\n",
              "        ...,\n",
              "        [ 0.04170844,  0.05068012, -0.01590626, ..., -0.01107952,\n",
              "         -0.04687948,  0.01549073],\n",
              "        [-0.04547248, -0.04464164,  0.03906215, ...,  0.02655962,\n",
              "          0.04452837, -0.02593034],\n",
              "        [-0.04547248, -0.04464164, -0.0730303 , ..., -0.03949338,\n",
              "         -0.00421986,  0.00306441]]),\n",
              " 'data_filename': 'diabetes_data.csv.gz',\n",
              " 'data_module': 'sklearn.datasets.data',\n",
              " 'feature_names': ['age',\n",
              "  'sex',\n",
              "  'bmi',\n",
              "  'bp',\n",
              "  's1',\n",
              "  's2',\n",
              "  's3',\n",
              "  's4',\n",
              "  's5',\n",
              "  's6'],\n",
              " 'frame': None,\n",
              " 'target': array([151.,  75., 141., 206., 135.,  97., 138.,  63., 110., 310., 101.,\n",
              "         69., 179., 185., 118., 171., 166., 144.,  97., 168.,  68.,  49.,\n",
              "         68., 245., 184., 202., 137.,  85., 131., 283., 129.,  59., 341.,\n",
              "         87.,  65., 102., 265., 276., 252.,  90., 100.,  55.,  61.,  92.,\n",
              "        259.,  53., 190., 142.,  75., 142., 155., 225.,  59., 104., 182.,\n",
              "        128.,  52.,  37., 170., 170.,  61., 144.,  52., 128.,  71., 163.,\n",
              "        150.,  97., 160., 178.,  48., 270., 202., 111.,  85.,  42., 170.,\n",
              "        200., 252., 113., 143.,  51.,  52., 210.,  65., 141.,  55., 134.,\n",
              "         42., 111.,  98., 164.,  48.,  96.,  90., 162., 150., 279.,  92.,\n",
              "         83., 128., 102., 302., 198.,  95.,  53., 134., 144., 232.,  81.,\n",
              "        104.,  59., 246., 297., 258., 229., 275., 281., 179., 200., 200.,\n",
              "        173., 180.,  84., 121., 161.,  99., 109., 115., 268., 274., 158.,\n",
              "        107.,  83., 103., 272.,  85., 280., 336., 281., 118., 317., 235.,\n",
              "         60., 174., 259., 178., 128.,  96., 126., 288.,  88., 292.,  71.,\n",
              "        197., 186.,  25.,  84.,  96., 195.,  53., 217., 172., 131., 214.,\n",
              "         59.,  70., 220., 268., 152.,  47.,  74., 295., 101., 151., 127.,\n",
              "        237., 225.,  81., 151., 107.,  64., 138., 185., 265., 101., 137.,\n",
              "        143., 141.,  79., 292., 178.,  91., 116.,  86., 122.,  72., 129.,\n",
              "        142.,  90., 158.,  39., 196., 222., 277.,  99., 196., 202., 155.,\n",
              "         77., 191.,  70.,  73.,  49.,  65., 263., 248., 296., 214., 185.,\n",
              "         78.,  93., 252., 150.,  77., 208.,  77., 108., 160.,  53., 220.,\n",
              "        154., 259.,  90., 246., 124.,  67.,  72., 257., 262., 275., 177.,\n",
              "         71.,  47., 187., 125.,  78.,  51., 258., 215., 303., 243.,  91.,\n",
              "        150., 310., 153., 346.,  63.,  89.,  50.,  39., 103., 308., 116.,\n",
              "        145.,  74.,  45., 115., 264.,  87., 202., 127., 182., 241.,  66.,\n",
              "         94., 283.,  64., 102., 200., 265.,  94., 230., 181., 156., 233.,\n",
              "         60., 219.,  80.,  68., 332., 248.,  84., 200.,  55.,  85.,  89.,\n",
              "         31., 129.,  83., 275.,  65., 198., 236., 253., 124.,  44., 172.,\n",
              "        114., 142., 109., 180., 144., 163., 147.,  97., 220., 190., 109.,\n",
              "        191., 122., 230., 242., 248., 249., 192., 131., 237.,  78., 135.,\n",
              "        244., 199., 270., 164.,  72.,  96., 306.,  91., 214.,  95., 216.,\n",
              "        263., 178., 113., 200., 139., 139.,  88., 148.,  88., 243.,  71.,\n",
              "         77., 109., 272.,  60.,  54., 221.,  90., 311., 281., 182., 321.,\n",
              "         58., 262., 206., 233., 242., 123., 167.,  63., 197.,  71., 168.,\n",
              "        140., 217., 121., 235., 245.,  40.,  52., 104., 132.,  88.,  69.,\n",
              "        219.,  72., 201., 110.,  51., 277.,  63., 118.,  69., 273., 258.,\n",
              "         43., 198., 242., 232., 175.,  93., 168., 275., 293., 281.,  72.,\n",
              "        140., 189., 181., 209., 136., 261., 113., 131., 174., 257.,  55.,\n",
              "         84.,  42., 146., 212., 233.,  91., 111., 152., 120.,  67., 310.,\n",
              "         94., 183.,  66., 173.,  72.,  49.,  64.,  48., 178., 104., 132.,\n",
              "        220.,  57.]),\n",
              " 'target_filename': 'diabetes_target.csv.gz'}"
            ]
          },
          "metadata": {},
          "execution_count": 3
        }
      ]
    },
    {
      "cell_type": "markdown",
      "metadata": {
        "id": "kKRdeFlWXnwG"
      },
      "source": [
        "## Print out the feature names"
      ]
    },
    {
      "cell_type": "code",
      "metadata": {
        "id": "wfR_n7anLuhy",
        "colab": {
          "base_uri": "https://localhost:8080/"
        },
        "outputId": "2906e4c7-027d-4652-fa50-1277bbbd8099"
      },
      "source": [
        "diabetes['feature_names']"
      ],
      "execution_count": null,
      "outputs": [
        {
          "output_type": "execute_result",
          "data": {
            "text/plain": [
              "['age', 'sex', 'bmi', 'bp', 's1', 's2', 's3', 's4', 's5', 's6']"
            ]
          },
          "metadata": {},
          "execution_count": 4
        }
      ]
    },
    {
      "cell_type": "markdown",
      "metadata": {
        "id": "wwFTiqzGXvkh"
      },
      "source": [
        "## Take a look at the shape of the data"
      ]
    },
    {
      "cell_type": "code",
      "metadata": {
        "id": "M6_mP7I1L1d2",
        "colab": {
          "base_uri": "https://localhost:8080/"
        },
        "outputId": "2e7d7e83-018b-4bfb-9959-aa9739d6f10f"
      },
      "source": [
        "diabetes['data'].shape"
      ],
      "execution_count": null,
      "outputs": [
        {
          "output_type": "execute_result",
          "data": {
            "text/plain": [
              "(442, 10)"
            ]
          },
          "metadata": {},
          "execution_count": 5
        }
      ]
    },
    {
      "cell_type": "markdown",
      "metadata": {
        "id": "ha5Va4J9XzOc"
      },
      "source": [
        "## Take a look at the shape of the targets (what we are predicting for)"
      ]
    },
    {
      "cell_type": "code",
      "metadata": {
        "id": "ETl69lnKMF4h",
        "colab": {
          "base_uri": "https://localhost:8080/"
        },
        "outputId": "d3f460a8-86aa-407d-cc5e-7295ed7d6639"
      },
      "source": [
        "diabetes['target'].shape"
      ],
      "execution_count": null,
      "outputs": [
        {
          "output_type": "execute_result",
          "data": {
            "text/plain": [
              "(442,)"
            ]
          },
          "metadata": {},
          "execution_count": 6
        }
      ]
    },
    {
      "cell_type": "markdown",
      "metadata": {
        "id": "0AYO6AASX6YP"
      },
      "source": [
        "## Use all training features\n",
        "\n",
        "In this notebook we are interested in creating a multiple variable regression model. So in this case, we will use all variables.\n",
        "\n",
        "Typically, features are denoted as X and targets as Y (some authors will use 'y' instead)."
      ]
    },
    {
      "cell_type": "code",
      "metadata": {
        "id": "KisCbn39MJJf"
      },
      "source": [
        "X = diabetes.data\n",
        "y = diabetes['target']"
      ],
      "execution_count": null,
      "outputs": []
    },
    {
      "cell_type": "markdown",
      "source": [
        "## Check the shape!"
      ],
      "metadata": {
        "id": "ymzAmQ65DphT"
      }
    },
    {
      "cell_type": "code",
      "source": [
        "X.shape"
      ],
      "metadata": {
        "colab": {
          "base_uri": "https://localhost:8080/"
        },
        "id": "m7PJ9MNrDoLA",
        "outputId": "f8d01e04-26d2-4b3c-84fc-ee2ee66950ae"
      },
      "execution_count": null,
      "outputs": [
        {
          "output_type": "execute_result",
          "data": {
            "text/plain": [
              "(442, 10)"
            ]
          },
          "metadata": {},
          "execution_count": 8
        }
      ]
    },
    {
      "cell_type": "code",
      "source": [
        "y.shape"
      ],
      "metadata": {
        "colab": {
          "base_uri": "https://localhost:8080/"
        },
        "id": "bN86sKRADr7d",
        "outputId": "9bc56277-0d14-441b-8bf8-8c61a3ade066"
      },
      "execution_count": null,
      "outputs": [
        {
          "output_type": "execute_result",
          "data": {
            "text/plain": [
              "(442,)"
            ]
          },
          "metadata": {},
          "execution_count": 9
        }
      ]
    },
    {
      "cell_type": "markdown",
      "metadata": {
        "id": "1zrf8HW2YVLg"
      },
      "source": [
        "## Split the data into training and testing sets"
      ]
    },
    {
      "cell_type": "code",
      "metadata": {
        "id": "LikuuS7eMi2V"
      },
      "source": [
        "X_train, X_test, y_train, y_test = train_test_split(X, y, test_size=0.3, random_state=4278) # 70% training and 30% test"
      ],
      "execution_count": null,
      "outputs": []
    },
    {
      "cell_type": "markdown",
      "metadata": {
        "id": "sbP-izKUhrRv"
      },
      "source": [
        "## Check the training features shape"
      ]
    },
    {
      "cell_type": "code",
      "metadata": {
        "id": "zuNZMEpNNPeE",
        "colab": {
          "base_uri": "https://localhost:8080/"
        },
        "outputId": "92ae8bdd-25a0-4308-a9c0-40633930a5df"
      },
      "source": [
        "X_train.shape"
      ],
      "execution_count": null,
      "outputs": [
        {
          "output_type": "execute_result",
          "data": {
            "text/plain": [
              "(309, 10)"
            ]
          },
          "metadata": {},
          "execution_count": 11
        }
      ]
    },
    {
      "cell_type": "markdown",
      "metadata": {
        "id": "lJu0zwVChtYJ"
      },
      "source": [
        "## Check the testing features shape"
      ]
    },
    {
      "cell_type": "code",
      "metadata": {
        "id": "H_nCHlD8NUv5",
        "colab": {
          "base_uri": "https://localhost:8080/"
        },
        "outputId": "46305e13-284d-45e3-a54b-7659d7110dfa"
      },
      "source": [
        "X_test.shape"
      ],
      "execution_count": null,
      "outputs": [
        {
          "output_type": "execute_result",
          "data": {
            "text/plain": [
              "(133, 10)"
            ]
          },
          "metadata": {},
          "execution_count": 12
        }
      ]
    },
    {
      "cell_type": "markdown",
      "metadata": {
        "id": "wi-ofdiqh0yk"
      },
      "source": [
        "## Define a linear regression model"
      ]
    },
    {
      "cell_type": "code",
      "metadata": {
        "id": "gO83iCvoN9_L"
      },
      "source": [
        "model = LinearRegression()"
      ],
      "execution_count": null,
      "outputs": []
    },
    {
      "cell_type": "markdown",
      "metadata": {
        "id": "0riDBRLViVgx"
      },
      "source": [
        "## Look at what has just being initialised"
      ]
    },
    {
      "cell_type": "code",
      "metadata": {
        "id": "qTD3iVDNOAH_",
        "colab": {
          "base_uri": "https://localhost:8080/"
        },
        "outputId": "2a2be116-5a64-4856-f126-46de1370b1c5"
      },
      "source": [
        "model"
      ],
      "execution_count": null,
      "outputs": [
        {
          "output_type": "execute_result",
          "data": {
            "text/plain": [
              "LinearRegression()"
            ]
          },
          "metadata": {},
          "execution_count": 14
        }
      ]
    },
    {
      "cell_type": "markdown",
      "metadata": {
        "id": "Yxz3JpzkiYPk"
      },
      "source": [
        "## Train the model/fit the model"
      ]
    },
    {
      "cell_type": "code",
      "metadata": {
        "id": "Ig0W1x2kOBL_",
        "colab": {
          "base_uri": "https://localhost:8080/"
        },
        "outputId": "3e3a1292-0a09-4515-9db9-3d42119bf357"
      },
      "source": [
        "model.fit(X_train, y_train)"
      ],
      "execution_count": null,
      "outputs": [
        {
          "output_type": "execute_result",
          "data": {
            "text/plain": [
              "LinearRegression()"
            ]
          },
          "metadata": {},
          "execution_count": 15
        }
      ]
    },
    {
      "cell_type": "markdown",
      "metadata": {
        "id": "OWHesFOViayN"
      },
      "source": [
        "## Print the coefficients"
      ]
    },
    {
      "cell_type": "code",
      "metadata": {
        "id": "59ESbKCfOzQY",
        "colab": {
          "base_uri": "https://localhost:8080/"
        },
        "outputId": "595e8025-f54e-441e-b99a-94c1133849a3"
      },
      "source": [
        "model.coef_"
      ],
      "execution_count": null,
      "outputs": [
        {
          "output_type": "execute_result",
          "data": {
            "text/plain": [
              "array([ -48.21538346, -208.21759667,  538.21407795,  317.59757521,\n",
              "       -412.84092159,  192.07650332,   -7.83180383,  210.28615811,\n",
              "        608.10859302,   49.99113799])"
            ]
          },
          "metadata": {},
          "execution_count": 16
        }
      ]
    },
    {
      "cell_type": "markdown",
      "metadata": {
        "id": "o6zf86W-ievO"
      },
      "source": [
        "## Print the intercept"
      ]
    },
    {
      "cell_type": "code",
      "metadata": {
        "id": "N5qLgLDCO3yS",
        "colab": {
          "base_uri": "https://localhost:8080/"
        },
        "outputId": "0b6aa9b0-33da-4960-c95b-b9f395522bee"
      },
      "source": [
        "model.intercept_"
      ],
      "execution_count": null,
      "outputs": [
        {
          "output_type": "execute_result",
          "data": {
            "text/plain": [
              "152.05315468620535"
            ]
          },
          "metadata": {},
          "execution_count": 17
        }
      ]
    },
    {
      "cell_type": "markdown",
      "metadata": {
        "id": "AqsHja65n2s3"
      },
      "source": [
        "## Task: can you write out the model given the above outputs?\n",
        "y = 152 -48d1 -208d2 + 538d3 + 317d4 -412d5 +192d6 -7d7 + 210d8 + 608d9 + 49d10\n",
        "..."
      ]
    },
    {
      "cell_type": "markdown",
      "metadata": {
        "id": "kfxU-jjoiQbp"
      },
      "source": [
        "## Apply the model to the testing features and get the predictions"
      ]
    },
    {
      "cell_type": "code",
      "metadata": {
        "id": "22Fsykp1OTTS"
      },
      "source": [
        "Y_pred = model.predict(X_test)"
      ],
      "execution_count": null,
      "outputs": []
    },
    {
      "cell_type": "markdown",
      "metadata": {
        "id": "eyLJnHB3iL09"
      },
      "source": [
        "## Determine the performance of the model on the testing data\n",
        "\n",
        "There are various options, but commonly used one include:\n",
        "\n",
        "* mean squared error\n",
        "* mean absolute error\n",
        "* root mean squared error\n",
        "\n",
        "There can be implemented using scikit-learn."
      ]
    },
    {
      "cell_type": "markdown",
      "metadata": {
        "id": "iGUmefPoi7vT"
      },
      "source": [
        "### Mean squared error"
      ]
    },
    {
      "cell_type": "code",
      "metadata": {
        "id": "yMmS0vBWOwa_",
        "colab": {
          "base_uri": "https://localhost:8080/"
        },
        "outputId": "d16a4470-a8e8-4fe7-b44f-7aca2fcfc0dd"
      },
      "source": [
        "mean_squared_error(y_test, Y_pred)"
      ],
      "execution_count": null,
      "outputs": [
        {
          "output_type": "execute_result",
          "data": {
            "text/plain": [
              "2938.633931374276"
            ]
          },
          "metadata": {},
          "execution_count": 19
        }
      ]
    },
    {
      "cell_type": "markdown",
      "metadata": {
        "id": "NA_Pmv25i9h8"
      },
      "source": [
        "### Mean absolute error"
      ]
    },
    {
      "cell_type": "code",
      "metadata": {
        "id": "MyujB8X6i9n7",
        "colab": {
          "base_uri": "https://localhost:8080/"
        },
        "outputId": "666f8336-2deb-4197-e9ef-bea70fc78e60"
      },
      "source": [
        "mean_absolute_error(y_test, Y_pred)"
      ],
      "execution_count": null,
      "outputs": [
        {
          "output_type": "execute_result",
          "data": {
            "text/plain": [
              "45.14810055653443"
            ]
          },
          "metadata": {},
          "execution_count": 20
        }
      ]
    },
    {
      "cell_type": "markdown",
      "metadata": {
        "id": "f-3KVAc1jB7d"
      },
      "source": [
        "### Root mean squared error"
      ]
    },
    {
      "cell_type": "code",
      "metadata": {
        "id": "jOf8Z-69jCEP",
        "colab": {
          "base_uri": "https://localhost:8080/"
        },
        "outputId": "346de7dc-fc86-4c86-b97d-83a2a391e0fb"
      },
      "source": [
        "np.sqrt(mean_squared_error(y_test, Y_pred))"
      ],
      "execution_count": null,
      "outputs": [
        {
          "output_type": "execute_result",
          "data": {
            "text/plain": [
              "54.209168333172904"
            ]
          },
          "metadata": {},
          "execution_count": 21
        }
      ]
    },
    {
      "cell_type": "markdown",
      "metadata": {
        "id": "mIm2I6aVoA3D"
      },
      "source": [
        "## Task: is the performance better than using a single variable?"
      ]
    },
    {
      "cell_type": "markdown",
      "source": [
        "Yes"
      ],
      "metadata": {
        "id": "W6yOKOFmWyqB"
      }
    }
  ]
}